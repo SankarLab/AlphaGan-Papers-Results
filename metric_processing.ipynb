{
 "cells": [
  {
   "cell_type": "code",
   "execution_count": 2,
   "id": "980654d9",
   "metadata": {},
   "outputs": [],
   "source": [
    "import pandas as pd\n",
    "import numpy as np\n",
    "import matplotlib.pyplot as plt"
   ]
  },
  {
   "cell_type": "code",
   "execution_count": 3,
   "id": "5b9ae458",
   "metadata": {},
   "outputs": [
    {
     "data": {
      "text/html": [
       "<div>\n",
       "<style scoped>\n",
       "    .dataframe tbody tr th:only-of-type {\n",
       "        vertical-align: middle;\n",
       "    }\n",
       "\n",
       "    .dataframe tbody tr th {\n",
       "        vertical-align: top;\n",
       "    }\n",
       "\n",
       "    .dataframe thead th {\n",
       "        text-align: right;\n",
       "    }\n",
       "</style>\n",
       "<table border=\"1\" class=\"dataframe\">\n",
       "  <thead>\n",
       "    <tr style=\"text-align: right;\">\n",
       "      <th></th>\n",
       "      <th>Setting</th>\n",
       "      <th>Seed</th>\n",
       "      <th>Modes</th>\n",
       "      <th>Major-Modes</th>\n",
       "      <th>Minor-Modes</th>\n",
       "      <th>HQS</th>\n",
       "      <th>Real-KL</th>\n",
       "      <th>Real-RKL</th>\n",
       "      <th>Real-JSD</th>\n",
       "      <th>Real-TVD</th>\n",
       "      <th>Uniform-KL</th>\n",
       "      <th>Uniform-RKL</th>\n",
       "      <th>Uniform-JSD</th>\n",
       "      <th>Uniform-TVD</th>\n",
       "    </tr>\n",
       "  </thead>\n",
       "  <tbody>\n",
       "    <tr>\n",
       "      <th>0</th>\n",
       "      <td>-dataset-polar-d_layers-4-g_layers-4-d_alpha-1...</td>\n",
       "      <td>3</td>\n",
       "      <td>0</td>\n",
       "      <td>0.0</td>\n",
       "      <td>0.0</td>\n",
       "      <td>0.00000</td>\n",
       "      <td>6.781676</td>\n",
       "      <td>2.076327</td>\n",
       "      <td>0.495679</td>\n",
       "      <td>0.874720</td>\n",
       "      <td>6.781676</td>\n",
       "      <td>2.076327</td>\n",
       "      <td>0.495679</td>\n",
       "      <td>0.874720</td>\n",
       "    </tr>\n",
       "    <tr>\n",
       "      <th>1</th>\n",
       "      <td>-dataset-polar-d_layers-4-g_layers-4-d_alpha-1...</td>\n",
       "      <td>2</td>\n",
       "      <td>8</td>\n",
       "      <td>8.0</td>\n",
       "      <td>0.0</td>\n",
       "      <td>0.98532</td>\n",
       "      <td>0.018775</td>\n",
       "      <td>0.018726</td>\n",
       "      <td>0.004673</td>\n",
       "      <td>0.083453</td>\n",
       "      <td>0.018775</td>\n",
       "      <td>0.018726</td>\n",
       "      <td>0.004673</td>\n",
       "      <td>0.083453</td>\n",
       "    </tr>\n",
       "    <tr>\n",
       "      <th>2</th>\n",
       "      <td>-dataset-polar-d_layers-4-g_layers-4-d_alpha-0...</td>\n",
       "      <td>2</td>\n",
       "      <td>8</td>\n",
       "      <td>8.0</td>\n",
       "      <td>0.0</td>\n",
       "      <td>0.82280</td>\n",
       "      <td>0.006027</td>\n",
       "      <td>0.005756</td>\n",
       "      <td>0.001470</td>\n",
       "      <td>0.039947</td>\n",
       "      <td>0.006027</td>\n",
       "      <td>0.005756</td>\n",
       "      <td>0.001470</td>\n",
       "      <td>0.039947</td>\n",
       "    </tr>\n",
       "    <tr>\n",
       "      <th>3</th>\n",
       "      <td>-dataset-polar-d_layers-4-g_layers-4-d_alpha-0...</td>\n",
       "      <td>2</td>\n",
       "      <td>8</td>\n",
       "      <td>8.0</td>\n",
       "      <td>0.0</td>\n",
       "      <td>0.98384</td>\n",
       "      <td>0.007764</td>\n",
       "      <td>0.007664</td>\n",
       "      <td>0.001926</td>\n",
       "      <td>0.054223</td>\n",
       "      <td>0.007764</td>\n",
       "      <td>0.007664</td>\n",
       "      <td>0.001926</td>\n",
       "      <td>0.054223</td>\n",
       "    </tr>\n",
       "    <tr>\n",
       "      <th>4</th>\n",
       "      <td>-dataset-polar-d_layers-4-g_layers-4-d_alpha-0...</td>\n",
       "      <td>2</td>\n",
       "      <td>0</td>\n",
       "      <td>0.0</td>\n",
       "      <td>0.0</td>\n",
       "      <td>0.00000</td>\n",
       "      <td>5.737985</td>\n",
       "      <td>1.555637</td>\n",
       "      <td>0.398123</td>\n",
       "      <td>0.749760</td>\n",
       "      <td>5.737985</td>\n",
       "      <td>1.555637</td>\n",
       "      <td>0.398123</td>\n",
       "      <td>0.749760</td>\n",
       "    </tr>\n",
       "    <tr>\n",
       "      <th>...</th>\n",
       "      <td>...</td>\n",
       "      <td>...</td>\n",
       "      <td>...</td>\n",
       "      <td>...</td>\n",
       "      <td>...</td>\n",
       "      <td>...</td>\n",
       "      <td>...</td>\n",
       "      <td>...</td>\n",
       "      <td>...</td>\n",
       "      <td>...</td>\n",
       "      <td>...</td>\n",
       "      <td>...</td>\n",
       "      <td>...</td>\n",
       "      <td>...</td>\n",
       "    </tr>\n",
       "    <tr>\n",
       "      <th>5393</th>\n",
       "      <td>-dataset-polar-d_layers-4-g_layers-4-d_alpha-0...</td>\n",
       "      <td>199</td>\n",
       "      <td>8</td>\n",
       "      <td>8.0</td>\n",
       "      <td>0.0</td>\n",
       "      <td>0.98368</td>\n",
       "      <td>0.004078</td>\n",
       "      <td>0.004169</td>\n",
       "      <td>0.001030</td>\n",
       "      <td>0.028631</td>\n",
       "      <td>0.004078</td>\n",
       "      <td>0.004169</td>\n",
       "      <td>0.001030</td>\n",
       "      <td>0.028631</td>\n",
       "    </tr>\n",
       "    <tr>\n",
       "      <th>5394</th>\n",
       "      <td>-dataset-polar-d_layers-4-g_layers-4-d_alpha-0...</td>\n",
       "      <td>200</td>\n",
       "      <td>6</td>\n",
       "      <td>6.0</td>\n",
       "      <td>0.0</td>\n",
       "      <td>0.97128</td>\n",
       "      <td>1.252293</td>\n",
       "      <td>0.285986</td>\n",
       "      <td>0.091763</td>\n",
       "      <td>0.246481</td>\n",
       "      <td>1.252293</td>\n",
       "      <td>0.285986</td>\n",
       "      <td>0.091763</td>\n",
       "      <td>0.246481</td>\n",
       "    </tr>\n",
       "    <tr>\n",
       "      <th>5395</th>\n",
       "      <td>-dataset-polar-d_layers-4-g_layers-4-d_alpha-0...</td>\n",
       "      <td>200</td>\n",
       "      <td>7</td>\n",
       "      <td>7.0</td>\n",
       "      <td>0.0</td>\n",
       "      <td>0.88540</td>\n",
       "      <td>1.178694</td>\n",
       "      <td>0.337311</td>\n",
       "      <td>0.100865</td>\n",
       "      <td>0.337732</td>\n",
       "      <td>1.178694</td>\n",
       "      <td>0.337311</td>\n",
       "      <td>0.100865</td>\n",
       "      <td>0.337732</td>\n",
       "    </tr>\n",
       "    <tr>\n",
       "      <th>5396</th>\n",
       "      <td>-dataset-polar-d_layers-4-g_layers-4-d_alpha-0...</td>\n",
       "      <td>200</td>\n",
       "      <td>4</td>\n",
       "      <td>4.0</td>\n",
       "      <td>0.0</td>\n",
       "      <td>0.98548</td>\n",
       "      <td>3.679491</td>\n",
       "      <td>0.696151</td>\n",
       "      <td>0.215819</td>\n",
       "      <td>0.499840</td>\n",
       "      <td>3.679491</td>\n",
       "      <td>0.696151</td>\n",
       "      <td>0.215819</td>\n",
       "      <td>0.499840</td>\n",
       "    </tr>\n",
       "    <tr>\n",
       "      <th>5397</th>\n",
       "      <td>-dataset-polar-d_layers-4-g_layers-4-d_alpha-1...</td>\n",
       "      <td>200</td>\n",
       "      <td>3</td>\n",
       "      <td>3.0</td>\n",
       "      <td>0.0</td>\n",
       "      <td>0.96968</td>\n",
       "      <td>4.661974</td>\n",
       "      <td>0.978867</td>\n",
       "      <td>0.289438</td>\n",
       "      <td>0.624800</td>\n",
       "      <td>4.661974</td>\n",
       "      <td>0.978867</td>\n",
       "      <td>0.289438</td>\n",
       "      <td>0.624800</td>\n",
       "    </tr>\n",
       "  </tbody>\n",
       "</table>\n",
       "<p>5398 rows × 14 columns</p>\n",
       "</div>"
      ],
      "text/plain": [
       "                                                Setting  Seed  Modes  \\\n",
       "0     -dataset-polar-d_layers-4-g_layers-4-d_alpha-1...     3      0   \n",
       "1     -dataset-polar-d_layers-4-g_layers-4-d_alpha-1...     2      8   \n",
       "2     -dataset-polar-d_layers-4-g_layers-4-d_alpha-0...     2      8   \n",
       "3     -dataset-polar-d_layers-4-g_layers-4-d_alpha-0...     2      8   \n",
       "4     -dataset-polar-d_layers-4-g_layers-4-d_alpha-0...     2      0   \n",
       "...                                                 ...   ...    ...   \n",
       "5393  -dataset-polar-d_layers-4-g_layers-4-d_alpha-0...   199      8   \n",
       "5394  -dataset-polar-d_layers-4-g_layers-4-d_alpha-0...   200      6   \n",
       "5395  -dataset-polar-d_layers-4-g_layers-4-d_alpha-0...   200      7   \n",
       "5396  -dataset-polar-d_layers-4-g_layers-4-d_alpha-0...   200      4   \n",
       "5397  -dataset-polar-d_layers-4-g_layers-4-d_alpha-1...   200      3   \n",
       "\n",
       "      Major-Modes  Minor-Modes      HQS   Real-KL  Real-RKL  Real-JSD  \\\n",
       "0             0.0          0.0  0.00000  6.781676  2.076327  0.495679   \n",
       "1             8.0          0.0  0.98532  0.018775  0.018726  0.004673   \n",
       "2             8.0          0.0  0.82280  0.006027  0.005756  0.001470   \n",
       "3             8.0          0.0  0.98384  0.007764  0.007664  0.001926   \n",
       "4             0.0          0.0  0.00000  5.737985  1.555637  0.398123   \n",
       "...           ...          ...      ...       ...       ...       ...   \n",
       "5393          8.0          0.0  0.98368  0.004078  0.004169  0.001030   \n",
       "5394          6.0          0.0  0.97128  1.252293  0.285986  0.091763   \n",
       "5395          7.0          0.0  0.88540  1.178694  0.337311  0.100865   \n",
       "5396          4.0          0.0  0.98548  3.679491  0.696151  0.215819   \n",
       "5397          3.0          0.0  0.96968  4.661974  0.978867  0.289438   \n",
       "\n",
       "      Real-TVD  Uniform-KL  Uniform-RKL  Uniform-JSD  Uniform-TVD  \n",
       "0     0.874720    6.781676     2.076327     0.495679     0.874720  \n",
       "1     0.083453    0.018775     0.018726     0.004673     0.083453  \n",
       "2     0.039947    0.006027     0.005756     0.001470     0.039947  \n",
       "3     0.054223    0.007764     0.007664     0.001926     0.054223  \n",
       "4     0.749760    5.737985     1.555637     0.398123     0.749760  \n",
       "...        ...         ...          ...          ...          ...  \n",
       "5393  0.028631    0.004078     0.004169     0.001030     0.028631  \n",
       "5394  0.246481    1.252293     0.285986     0.091763     0.246481  \n",
       "5395  0.337732    1.178694     0.337311     0.100865     0.337732  \n",
       "5396  0.499840    3.679491     0.696151     0.215819     0.499840  \n",
       "5397  0.624800    4.661974     0.978867     0.289438     0.624800  \n",
       "\n",
       "[5398 rows x 14 columns]"
      ]
     },
     "execution_count": 3,
     "metadata": {},
     "output_type": "execute_result"
    }
   ],
   "source": [
    "#df = pd.read_csv('experiment1/metrics.csv')\n",
    "df = pd.read_csv('metrics/ring_S_metrics.csv')\n",
    "#df['size'] = df['Setting'].apply(lambda x: str(x[42]) + str(x[53]))\n",
    "#df = df[df['size'] == '32']\n",
    "df['Setting'] = df['Setting'].apply(lambda x: x.replace('-major_weight-1', ''))\n",
    "df"
   ]
  },
  {
   "cell_type": "code",
   "execution_count": 13,
   "id": "7798a968",
   "metadata": {},
   "outputs": [
    {
     "data": {
      "text/plain": [
       "[['-dataset-polar-d_layers-4-g_layers-4-d_alpha-0.2-g_alpha-1-epoch_step-400',\n",
       "  '-dataset-polar-d_layers-4-g_layers-4-d_alpha-0.3-g_alpha-1-epoch_step-400',\n",
       "  '-dataset-polar-d_layers-4-g_layers-4-d_alpha-0.4-g_alpha-1-epoch_step-400',\n",
       "  '-dataset-polar-d_layers-4-g_layers-4-d_alpha-0.5-g_alpha-1-epoch_step-400',\n",
       "  '-dataset-polar-d_layers-4-g_layers-4-d_alpha-0.5-g_alpha-1.1-epoch_step-400',\n",
       "  '-dataset-polar-d_layers-4-g_layers-4-d_alpha-0.5-g_alpha-1.2-epoch_step-400',\n",
       "  '-dataset-polar-d_layers-4-g_layers-4-d_alpha-0.6-g_alpha-1-epoch_step-400',\n",
       "  '-dataset-polar-d_layers-4-g_layers-4-d_alpha-0.6-g_alpha-1.1-epoch_step-400',\n",
       "  '-dataset-polar-d_layers-4-g_layers-4-d_alpha-0.6-g_alpha-1.2-epoch_step-400',\n",
       "  '-dataset-polar-d_layers-4-g_layers-4-d_alpha-0.7-g_alpha-1-epoch_step-400',\n",
       "  '-dataset-polar-d_layers-4-g_layers-4-d_alpha-0.7-g_alpha-1.1-epoch_step-400',\n",
       "  '-dataset-polar-d_layers-4-g_layers-4-d_alpha-0.7-g_alpha-1.2-epoch_step-400',\n",
       "  '-dataset-polar-d_layers-4-g_layers-4-d_alpha-0.8-g_alpha-1-epoch_step-400',\n",
       "  '-dataset-polar-d_layers-4-g_layers-4-d_alpha-0.8-g_alpha-1.1-epoch_step-400',\n",
       "  '-dataset-polar-d_layers-4-g_layers-4-d_alpha-0.8-g_alpha-1.2-epoch_step-400',\n",
       "  '-dataset-polar-d_layers-4-g_layers-4-d_alpha-0.9-g_alpha-1-epoch_step-400',\n",
       "  '-dataset-polar-d_layers-4-g_layers-4-d_alpha-0.9-g_alpha-1.1-epoch_step-400',\n",
       "  '-dataset-polar-d_layers-4-g_layers-4-d_alpha-0.9-g_alpha-1.2-epoch_step-400',\n",
       "  '-dataset-polar-d_layers-4-g_layers-4-d_alpha-1-g_alpha-1-epoch_step-400',\n",
       "  '-dataset-polar-d_layers-4-g_layers-4-d_alpha-1-g_alpha-1.1-epoch_step-400',\n",
       "  '-dataset-polar-d_layers-4-g_layers-4-d_alpha-1-g_alpha-1.2-epoch_step-400']]"
      ]
     },
     "execution_count": 13,
     "metadata": {},
     "output_type": "execute_result"
    }
   ],
   "source": [
    "types = ['Modes', 'Minor-Modes', 'HQS', 'Uniform-RKL', 'Reverse KL', 'JSD', 'TVD']\n",
    "index = 0\n",
    "rows = 1\n",
    "means = df.groupby('Setting')[types[index]].mean().values.reshape(-1, rows).transpose().tolist()\n",
    "stds = df.groupby('Setting')[types[index]].std().values.reshape(-1, rows).transpose().tolist()\n",
    "\n",
    "indices = df.groupby('Setting')[types[index]].mean().index.values.reshape(-1, rows).transpose().tolist()\n",
    "indices"
   ]
  },
  {
   "cell_type": "code",
   "execution_count": 15,
   "id": "73bfcf15",
   "metadata": {},
   "outputs": [
    {
     "data": {
      "text/plain": [
       "[0.035,\n",
       " 0.02,\n",
       " 0.055,\n",
       " 0.045,\n",
       " 0.07333333333333333,\n",
       " 0.08666666666666667,\n",
       " 0.045,\n",
       " 0.08666666666666667,\n",
       " 0.05333333333333334,\n",
       " 0.06532663316582915,\n",
       " 0.12666666666666668,\n",
       " 0.08666666666666667,\n",
       " 0.08040201005025126,\n",
       " 0.12,\n",
       " 0.12,\n",
       " 0.16,\n",
       " 0.13333333333333333,\n",
       " 0.17333333333333334,\n",
       " 0.295,\n",
       " 0.26,\n",
       " 0.31333333333333335]"
      ]
     },
     "execution_count": 15,
     "metadata": {},
     "output_type": "execute_result"
    }
   ],
   "source": [
    "count8s = df[df['Modes'] == 0].groupby('Setting')[types[index]].size().transpose()\n",
    "sizes = df.groupby('Setting')[types[index]].size().transpose()\n",
    "\n",
    "(count8s / sizes).tolist()"
   ]
  },
  {
   "cell_type": "code",
   "execution_count": 23,
   "id": "e603c2bf",
   "metadata": {},
   "outputs": [
    {
     "data": {
      "image/png": "[encoded data removed]",
      "text/plain": [
       "<Figure size 432x288 with 1 Axes>"
      ]
     },
     "metadata": {
      "needs_background": "light"
     },
     "output_type": "display_data"
    }
   ],
   "source": [
    "idx = [0,2,4,6,8,10]\n",
    "#count0s = df[df['Modes'] == 0].groupby('Setting')[types[index]].size().transpose()[idx]\n",
    "count8s = df[df['Modes'] == 8].groupby('Setting')[types[index]].size().transpose()[idx]\n",
    "sizes = df.groupby('Setting')[types[index]].size().transpose()[idx]\n",
    "\n",
    "#p0 = np.array((count0s / sizes).tolist())\n",
    "\n",
    "#p0[np.isnan(p0)] = 0\n",
    "\n",
    "p8 = np.array((count8s / sizes).tolist())\n",
    "#pX = 1 - p0 - p8\n",
    "\n",
    "alphas = [0.5,0.6,0.7,0.8,0.9,1]\n",
    "\n",
    "#plt.plot(alphas, p0, marker='o', label='Modes = 0')\n",
    "\n",
    "#for x,y in zip(alphas, p0):\n",
    "    #plt.text(x, y+0.02, str(round(y * 1000) / 1000), ha='center')\n",
    "\n",
    "plt.plot(alphas, p8, marker='o', label='Modes = 8')\n",
    "\n",
    "for x,y in zip(alphas, p8):\n",
    "    plt.text(x, y+0.02, str(round(y * 1000) / 1000), ha='center')\n",
    "    \n",
    "#plt.plot(alphas, pX, marker='o', label=r'Modes $\\in$ (0,8)')\n",
    "\n",
    "#for x,y in zip(alphas, pX):\n",
    "    #plt.text(x, y+0.02, str(round(y * 1000) / 1000), ha='center')\n",
    "    \n",
    "plt.ylabel('Frequency')\n",
    "plt.xlabel('Alpha')\n",
    "plt.title('Gen. Alpha = 1 - 100 seeds')\n",
    "plt.legend(loc=(0.65,0.5))\n",
    "plt.show()"
   ]
  },
  {
   "cell_type": "code",
   "execution_count": 18,
   "id": "66819534",
   "metadata": {},
   "outputs": [
    {
     "name": "stdout",
     "output_type": "stream",
     "text": [
      "6.79±1.28 6.87±1.44 6.84±1.44 6.83±1.45 6.61±1.44 6.56±1.55 6.57±1.50 6.42±1.68 6.41±1.54 6.07±1.82 6.22±1.79 6.05±1.73 5.96±1.91 5.66±1.98 5.83±1.94 5.88±1.92 6.01±1.94 5.79±1.90 5.72±2.00 5.57±2.17 5.89±1.88 5.24±2.00 5.67±2.01 5.61±2.02 \n"
     ]
    }
   ],
   "source": [
    "for m_row, s_row in zip(means, stds):\n",
    "    for m, s in zip(m_row, s_row):\n",
    "        s = 0 if pd.isnull(s) else s\n",
    "        print(\"{:.2f}±{:.2f}\".format(m, s), end=' ')\n",
    "    print()"
   ]
  },
  {
   "cell_type": "code",
   "execution_count": 19,
   "id": "e6bce8ae",
   "metadata": {},
   "outputs": [],
   "source": [
    "fname1 = 'experiment1/data/-major_weight-1-dataset-polar-d_layers-4-g_layers-4-d_alpha-1-g_alpha-1-epoch_step-1-save_bursts-save_grads-seed-1_time-1666171574.366324'\n",
    "fname2 = 'experiment1/data/-major_weight-1-dataset-polar-d_layers-4-g_layers-4-d_alpha-1-g_alpha-1-epoch_step-1-save_bursts-save_grads-seed-3_time-1666171567.8593686'\n",
    "\n",
    "with open(fname1 + '/metrics.csv', 'r') as f:\n",
    "    metrics = eval(f.read())"
   ]
  },
  {
   "cell_type": "code",
   "execution_count": 20,
   "id": "25da3968",
   "metadata": {},
   "outputs": [
    {
     "data": {
      "image/png": "[encoded data removed]",
      "text/plain": [
       "<Figure size 576x288 with 1 Axes>"
      ]
     },
     "metadata": {
      "needs_background": "light"
     },
     "output_type": "display_data"
    }
   ],
   "source": [
    "plt.figure(figsize=(8,4))\n",
    "plt.plot(metrics['epochs'], metrics['modes'], color='blue')\n",
    "plt.xlabel('Epoch')\n",
    "plt.ylabel('Modes')\n",
    "plt.show()"
   ]
  },
  {
   "cell_type": "code",
   "execution_count": 21,
   "id": "fadcf7f4",
   "metadata": {},
   "outputs": [
    {
     "data": {
      "image/png": "[encoded data removed]",
      "text/plain": [
       "<Figure size 576x288 with 1 Axes>"
      ]
     },
     "metadata": {
      "needs_background": "light"
     },
     "output_type": "display_data"
    }
   ],
   "source": [
    "plt.figure(figsize=(8,4))\n",
    "plt.plot(metrics['epochs'], metrics['hqs'], color='red')\n",
    "plt.xlabel('Epoch')\n",
    "plt.ylabel('HQS')\n",
    "plt.show()"
   ]
  },
  {
   "cell_type": "code",
   "execution_count": 18,
   "id": "449970ba",
   "metadata": {},
   "outputs": [
    {
     "data": {
      "text/plain": [
       "array([ 85,  86,  87,  88,  89,  90,  91,  92,  93,  94,  95,  96,  97,\n",
       "        98,  99, 100, 101, 102, 103, 104, 105, 106, 107, 108, 109, 110,\n",
       "       111, 112, 113, 114, 115, 116, 117, 118, 119, 120])"
      ]
     },
     "execution_count": 18,
     "metadata": {},
     "output_type": "execute_result"
    }
   ],
   "source": [
    "np.array(metrics['epochs'])[np.array(metrics['modes']) == 8]"
   ]
  },
  {
   "cell_type": "code",
   "execution_count": 7,
   "id": "e4d33c6c",
   "metadata": {},
   "outputs": [
    {
     "data": {
      "text/plain": [
       "Setting\n",
       "-n_epochs-50-g_lr-0.0005-g_alpha-1-d_alpha-0.8      753.208333\n",
       "-n_epochs-50-g_lr-0.0005-g_alpha-1-d_alpha-0.9      749.187500\n",
       "-n_epochs-50-g_lr-0.0005-g_alpha-1-d_alpha-1        740.000000\n",
       "-n_epochs-50-g_lr-0.0005-g_alpha-1.2-d_alpha-0.8    723.229167\n",
       "-n_epochs-50-g_lr-0.0005-g_alpha-1.2-d_alpha-0.9    718.562500\n",
       "-n_epochs-50-g_lr-0.0005-g_alpha-1.2-d_alpha-1      717.729167\n",
       "-n_epochs-50-g_lr-0.0005-g_alpha-1.5-d_alpha-0.8    757.893617\n",
       "-n_epochs-50-g_lr-0.0005-g_alpha-1.5-d_alpha-0.9    733.255319\n",
       "-n_epochs-50-g_lr-0.0005-g_alpha-1.5-d_alpha-1      741.361702\n",
       "Name: 0.0-1, dtype: float64"
      ]
     },
     "execution_count": 7,
     "metadata": {},
     "output_type": "execute_result"
    }
   ],
   "source": [
    "df = pd.read_csv('experiments/metrics.csv')\n",
    "df.groupby('Setting')['0.0-1'].mean()"
   ]
  },
  {
   "cell_type": "code",
   "execution_count": 14,
   "id": "71abe8bc",
   "metadata": {},
   "outputs": [
    {
     "data": {
      "text/plain": [
       "Setting\n",
       "-non_saturating-n_epochs-50-g_lr-0.001-g_alpha-1      10\n",
       "-non_saturating-n_epochs-50-g_lr-0.001-g_alpha-1.2     1\n",
       "-non_saturating-n_epochs-50-g_lr-0.001-ls_gan         10\n",
       "-non_saturating-n_epochs-50-g_lr-0.002-g_alpha-1      38\n",
       "-non_saturating-n_epochs-50-g_lr-0.002-g_alpha-1.2     1\n",
       "-non_saturating-n_epochs-50-g_lr-0.002-ls_gan         35\n",
       "-non_saturating-n_epochs-50-g_lr-0.005-g_alpha-1      35\n",
       "-non_saturating-n_epochs-50-g_lr-0.005-g_alpha-1.2     1\n",
       "-non_saturating-n_epochs-50-g_lr-0.005-ls_gan         44\n",
       "-non_saturating-n_epochs-50-g_lr-0.01-g_alpha-1       24\n",
       "-non_saturating-n_epochs-50-g_lr-0.01-g_alpha-1.2      4\n",
       "-non_saturating-n_epochs-50-g_lr-0.01-g_alpha-2        1\n",
       "-non_saturating-n_epochs-50-g_lr-0.01-ls_gan          69\n",
       "Name: 0.5-1, dtype: int64"
      ]
     },
     "execution_count": 14,
     "metadata": {},
     "output_type": "execute_result"
    }
   ],
   "source": [
    "df = pd.read_csv('metrics/mnist_metrics_lr.csv')\n",
    "#data = np.array(df[df['0.5-1'] == 0].groupby('Setting')['0.5-1'].count()).reshape(-1,5)\n",
    "#data\n",
    "df[df['0.5-1'] == 0].groupby('Setting')['0.5-1'].count()"
   ]
  },
  {
   "cell_type": "code",
   "execution_count": 72,
   "id": "62d6bc05",
   "metadata": {},
   "outputs": [
    {
     "data": {
      "image/png": "[encoded data removed]",
      "text/plain": [
       "<Figure size 432x288 with 1 Axes>"
      ]
     },
     "metadata": {
      "needs_background": "light"
     },
     "output_type": "display_data"
    }
   ],
   "source": [
    "lrs = ['1e-4', '2e-4', '5e-4', '1e-3', '2e-3', '5e-3', '1e-2']\n",
    "plt.plot(lrs, data[:,0], label=r'$\\alpha = 1$')\n",
    "plt.plot(lrs, data[:,1], label=r'$\\alpha = 1.2$')\n",
    "plt.plot(lrs, data[:,2], label=r'$\\alpha = 1.5$')\n",
    "plt.plot(lrs, data[:,3], label=r'$\\alpha = 2$')\n",
    "plt.plot(lrs, data[:,4], label=r'LS')\n",
    "for i in range(5):\n",
    "    plt.scatter(lrs, data[:,i])\n",
    "plt.legend()\n",
    "plt.xlabel('Learning rate (D & G)')\n",
    "plt.ylabel('Average mode coverage')\n",
    "plt.show()"
   ]
  },
  {
   "cell_type": "code",
   "execution_count": 8,
   "id": "dd36cd63",
   "metadata": {},
   "outputs": [
    {
     "data": {
      "text/plain": [
       "array([[654.09677419, 696.4516129 , 691.51612903, 718.        ],\n",
       "       [504.64516129, 550.58064516, 579.32258065, 677.74193548],\n",
       "       [474.12      , 452.375     , 521.28571429, 612.61538462],\n",
       "       [759.375     , 749.46875   , 732.875     , 754.59375   ]])"
      ]
     },
     "execution_count": 8,
     "metadata": {},
     "output_type": "execute_result"
    }
   ],
   "source": [
    "df = pd.read_csv('metrics/mnist_metrics_epochs.csv')\n",
    "data = np.array(df.groupby('Setting')['0.0-1'].mean()).reshape(-1,4)\n",
    "data"
   ]
  },
  {
   "cell_type": "code",
   "execution_count": 16,
   "id": "a82716c0",
   "metadata": {},
   "outputs": [
    {
     "data": {
      "text/plain": [
       "Setting\n",
       "-non_saturating-n_epochs-100-g_lr-0.0005-g_alpha-1      2\n",
       "-non_saturating-n_epochs-150-g_lr-0.0005-g_alpha-1      3\n",
       "-non_saturating-n_epochs-150-g_lr-0.0005-g_alpha-1.2    1\n",
       "-non_saturating-n_epochs-200-g_lr-0.0005-g_alpha-1      2\n",
       "Name: 0.5-1, dtype: int64"
      ]
     },
     "execution_count": 16,
     "metadata": {},
     "output_type": "execute_result"
    }
   ],
   "source": [
    "df[df['0.5-1'] == 0].groupby('Setting')['0.5-1'].count()"
   ]
  },
  {
   "cell_type": "code",
   "execution_count": 14,
   "id": "3e699e85",
   "metadata": {},
   "outputs": [],
   "source": [
    "def percentiles(array):\n",
    "    array = np.array(array).astype(float)\n",
    "    s_array = np.argsort(array)\n",
    "    array[s_array] = np.linspace(1e-5,1 - 1e-5,len(array))\n",
    "    return array"
   ]
  },
  {
   "cell_type": "code",
   "execution_count": 33,
   "id": "d728a426",
   "metadata": {},
   "outputs": [
    {
     "data": {
      "image/png": "[encoded data removed]",
      "text/plain": [
       "<Figure size 720x144 with 1 Axes>"
      ]
     },
     "metadata": {
      "needs_background": "light"
     },
     "output_type": "display_data"
    }
   ],
   "source": [
    "epochs = list(range(1,401))\n",
    "\n",
    "seed8_vanilla = [0, 0, 0, 0, 0, 0, 0, 0, 0, 0, 0, 0, 0, 0, 0, 0, 0, 2, 2, 1, 0, 0, 1, 0, 0, 0, 0, 0, 0, 0, 0, 0, 1, 1, 1, 0, 1, 0, 1, 2, 5, 7, 8, 8, 8, 8, 8, 8, 8, 8, 8, 8, 8, 8, 8, 8, 8, 8, 8, 8, 8, 8, 8, 8, 6, 8, 8, 8, 8, 8, 8, 8, 8, 7, 7, 7, 4, 7, 4, 6, 3, 7, 7, 7, 7, 7, 7, 6, 4, 4, 3, 1, 1, 1, 1, 1, 1, 1, 1, 1, 1, 1, 1, 1, 1, 1, 1, 1, 1, 1, 1, 1, 1, 1, 1, 1, 1, 1, 1, 1, 1, 1, 1, 1, 1, 1, 1, 1, 1, 1, 1, 1, 1, 1, 1, 1, 1, 1, 1, 1, 1, 1, 1, 1, 1, 1, 1, 1, 1, 1, 1, 1, 1, 1, 1, 1, 0, 0, 0, 0, 0, 0, 0, 0, 0, 0, 0, 0, 0, 0, 0, 1, 1, 1, 1, 1, 1, 1, 1, 1, 1, 1, 1, 1, 1, 1, 1, 1, 0, 1, 1, 0, 0, 0, 0, 0, 0, 0, 0, 3, 3, 3, 3, 2, 1, 1, 1, 0, 0, 0, 0, 1, 1, 1, 0, 1, 1, 0, 0, 0, 0, 0, 0, 0, 0, 0, 0, 1, 0, 0, 0, 0, 0, 0, 0, 0, 0, 0, 0, 0, 0, 0, 0, 0, 0, 0, 0, 0, 0, 0, 0, 0, 0, 0, 0, 0, 0, 0, 0, 0, 0, 0, 0, 0, 0, 0, 0, 0, 0, 0, 0, 0, 0, 0, 0, 0, 0, 1, 1, 1, 1, 1, 1, 1, 1, 1, 1, 1, 1, 1, 1, 1, 1, 1, 1, 1, 1, 1, 0, 0, 0, 0, 0, 0, 0, 0, 0, 0, 0, 0, 0, 0, 0, 0, 0, 0, 0, 0, 0, 0, 0, 0, 0, 0, 0, 0, 0, 0, 0, 0, 0, 0, 0, 0, 0, 0, 0, 0, 0, 0, 0, 0, 0, 0, 0, 0, 0, 0, 0, 0, 0, 0, 0, 0, 0, 0, 0, 0, 0, 0, 0, 0, 0, 0, 0, 0, 0, 0, 0, 0, 0, 0, 0, 0, 0, 0, 0, 0, 0, 0, 0, 0, 0, 0, 0, 0, 0, 0, 0, 0, 0, 0, 0, 0, 0, 0, 0, 0, 0, 0]\n",
    "seed8_alpha = [0, 0, 0, 0, 0, 1, 0, 0, 0, 1, 0, 1, 0, 0, 1, 1, 0, 1, 1, 0, 0, 0, 1, 1, 0, 0, 1, 0, 0, 0, 0, 1, 0, 0, 0, 0, 0, 0, 0, 0, 0, 1, 0, 0, 0, 0, 3, 8, 6, 7, 8, 7, 8, 8, 8, 8, 8, 6, 8, 8, 8, 8, 8, 8, 8, 8, 8, 8, 8, 8, 8, 8, 6, 8, 6, 8, 8, 7, 8, 8, 8, 8, 8, 8, 8, 8, 8, 8, 8, 8, 8, 8, 8, 8, 8, 8, 8, 8, 8, 8, 8, 8, 7, 8, 8, 8, 8, 8, 8, 8, 8, 8, 8, 8, 8, 8, 8, 8, 8, 8, 8, 8, 8, 8, 8, 8, 8, 8, 8, 8, 8, 8, 8, 8, 8, 8, 8, 8, 8, 8, 8, 8, 8, 8, 8, 8, 8, 8, 8, 8, 8, 8, 8, 8, 8, 8, 8, 8, 8, 8, 8, 8, 8, 8, 8, 8, 8, 8, 8, 8, 8, 8, 8, 8, 7, 8, 8, 8, 8, 8, 8, 8, 8, 8, 8, 8, 8, 8, 8, 8, 8, 8, 8, 8, 8, 8, 8, 8, 8, 8, 8, 8, 8, 8, 8, 8, 8, 8, 8, 8, 8, 8, 8, 8, 8, 8, 8, 8, 8, 8, 8, 8, 7, 8, 8, 8, 8, 8, 8, 8, 8, 8, 8, 8, 8, 8, 8, 8, 8, 8, 8, 8, 8, 8, 8, 8, 8, 8, 8, 8, 8, 8, 8, 8, 8, 8, 8, 8, 8, 8, 8, 8, 8, 8, 8, 8, 8, 8, 8, 8, 8, 8, 8, 8, 8, 8, 8, 8, 8, 8, 8, 8, 8, 8, 8, 8, 8, 8, 8, 8, 8, 8, 8, 8, 8, 8, 8, 8, 8, 8, 8, 8, 8, 8, 8, 8, 8, 8, 8, 8, 8, 8, 8, 8, 8, 8, 8, 8, 8, 8, 8, 8, 8, 8, 8, 8, 8, 8, 8, 8, 8, 8, 8, 8, 8, 8, 8, 8, 8, 8, 8, 8, 8, 8, 8, 8, 8, 8, 8, 8, 8, 8, 8, 8, 8, 8, 8, 8, 8, 8, 8, 8, 8, 7, 8, 8, 8, 8, 8, 8, 8, 8, 8, 8, 8, 8, 8, 8, 8, 8, 8, 8, 8, 8, 8, 8, 8, 8, 8, 8, 8, 8, 8, 8, 8, 8, 8, 8, 8, 8]\n",
    "\n",
    "plt.figure(figsize=(10,2))\n",
    "\n",
    "plt.plot(epochs, seed8_vanilla, color='red', label=r'$\\alpha_{D} = 1$')\n",
    "plt.plot(epochs, seed8_alpha, color='blue', label=r'$\\alpha_{D} = 0.2$')\n",
    "\n",
    "plt.grid(axis='y', color=(0.9,0.9,0.9))\n",
    "plt.ylabel('Mode coverage')\n",
    "plt.xlabel('Epoch')\n",
    "plt.legend(loc='center right')\n",
    "plt.show()\n",
    "\n"
   ]
  },
  {
   "cell_type": "code",
   "execution_count": 44,
   "id": "72cdc0cd",
   "metadata": {},
   "outputs": [
    {
     "name": "stderr",
     "output_type": "stream",
     "text": [
      "mkdir: experiment/data/: File exists\n"
     ]
    }
   ],
   "source": [
    "import os\n",
    "\n",
    "with open('names.txt', 'r') as f:\n",
    "    names = f.read().split('\\n')\n",
    "\n",
    "for name in names:\n",
    "    os.system('mkdir experiment/data/' + name)\n",
    "    os.system('touch experiment/data/' + name + 'metrics.csv')\n",
    "    os.system('mkdir experiment/data/' + name + 'bursts')\n",
    "    os.system('touch experiment/data/' + name + 'bursts/epoch-400.png')"
   ]
  },
  {
   "cell_type": "code",
   "execution_count": 54,
   "id": "7d0be4bb",
   "metadata": {},
   "outputs": [
    {
     "data": {
      "image/png": "[encoded data removed]",
      "text/plain": [
       "<Figure size 432x288 with 1 Axes>"
      ]
     },
     "metadata": {
      "needs_background": "light"
     },
     "output_type": "display_data"
    }
   ],
   "source": [
    "metric = 'FIDs'\n",
    "\n",
    "data = []\n",
    "\n",
    "for i in range(20):\n",
    "    df = pd.read_csv('metrics/mnist_metrics_epochs_fid.csv')\n",
    "    df[metric] = df[metric].apply(lambda x: eval(x)[i])\n",
    "    data.append(list(df.groupby('Setting')[metric].mean()))\n",
    "\n",
    "data = np.array(data)\n",
    "\n",
    "epochs = [10*i for i in range(20)]\n",
    "\n",
    "plt.grid(axis='y', color=(0.9,0.9,0.9))\n",
    "\n",
    "plt.plot(epochs, data[:,0])\n",
    "plt.plot(epochs, data[:,1])\n",
    "plt.plot(epochs, data[:,2])\n",
    "plt.plot(epochs, data[:,3])\n",
    "\n",
    "plt.scatter(epochs, data[:,0], label=r'$\\alpha_{D}, \\alpha_{G} = 1$')\n",
    "plt.scatter(epochs, data[:,1], label=r'$\\alpha_{D}, \\alpha_{G} = 1.2$')\n",
    "plt.scatter(epochs, data[:,2], label=r'$\\alpha_{D}, \\alpha_{G} = 1.5$')\n",
    "plt.scatter(epochs, data[:,3], label=r'$\\alpha_{D}, \\alpha_{G} = 2$')\n",
    "\n",
    "plt.ylabel('FID Score')\n",
    "plt.xlabel('Epochs')\n",
    "\n",
    "plt.legend()\n",
    "plt.show()"
   ]
  },
  {
   "cell_type": "code",
   "execution_count": 43,
   "id": "0656d69a",
   "metadata": {},
   "outputs": [
    {
     "data": {
      "text/plain": [
       "[[685.8484848484849, 712.2323232323232, 698.4489795918367, 693.0918367346939],\n",
       " [771.1919191919192, 799.2020202020202, 781.1020408163265, 776.3367346938776],\n",
       " [773.3838383838383, 763.6161616161617, 750.295918367347, 761.6428571428571],\n",
       " [745.4545454545455, 759.3434343434343, 743.265306122449, 745.3265306122449],\n",
       " [752.5555555555555, 751.4646464646464, 741.9489795918367, 736.0102040816327],\n",
       " [745.4545454545455, 739.5555555555555, 734.1224489795918, 729.9795918367347],\n",
       " [720.070707070707, 735.8888888888889, 723.9081632653061, 741.6836734693877],\n",
       " [697.2020202020202, 715.2424242424242, 702.7857142857143, 723.295918367347],\n",
       " [696.3232323232323, 693.2020202020202, 679.1836734693877, 713.4285714285714],\n",
       " [678.040404040404, 676.4848484848485, 675.6122448979592, 706.7244897959183],\n",
       " [653.5656565656566, 647.6363636363636, 668.765306122449, 689.4081632653061],\n",
       " [623.7373737373738, 628.030303030303, 656.2448979591836, 674.2244897959183],\n",
       " [611.1414141414141, 606.989898989899, 634.4285714285714, 683.0918367346939],\n",
       " [572.5454545454545, 586.0505050505051, 618.7244897959183, 659.0204081632653],\n",
       " [538.5454545454545, 549.6868686868687, 609.0102040816327, 656.9183673469388],\n",
       " [513.5454545454545, 520.8080808080808, 590.4489795918367, 648.8061224489796],\n",
       " [490.4646464646465, 493.06060606060606, 551.6734693877551, 629.3469387755102],\n",
       " [480.4040404040404, 469.1818181818182, 546.5204081632653, 625.7142857142857],\n",
       " [431.06060606060606,\n",
       "  462.44444444444446,\n",
       "  524.0204081632653,\n",
       "  613.0102040816327],\n",
       " [399.7676767676768, 453.989898989899, 506.5, 597.8979591836735]]"
      ]
     },
     "execution_count": 43,
     "metadata": {},
     "output_type": "execute_result"
    }
   ],
   "source": [
    "data"
   ]
  },
  {
   "cell_type": "code",
   "execution_count": 64,
   "id": "e7642c81",
   "metadata": {},
   "outputs": [],
   "source": [
    "def make_polar():\n",
    "\n",
    "    means = [np.array([np.cos(2 * np.pi * i / 8), np.sin(2 * np.pi * i / 8)]) for i in range(1,9)]\n",
    "    stds = [np.sqrt(1e-4)] * 8\n",
    "    modes = list(zip(means, stds))\n",
    "\n",
    "    probs = np.array([1 for m in range(8)])\n",
    "    probs = list(probs / probs.sum())\n",
    "\n",
    "    return modes, probs\n",
    "\n",
    "def get_data(data_size, modes, probs):\n",
    "\n",
    "    indices = np.random.choice(len(modes), data_size, p=probs)\n",
    "\n",
    "    data = [modes[i][0] + modes[i][1] * np.random.randn(2) for i in indices]\n",
    "\n",
    "    return data\n",
    "\n",
    "modes, probs = make_polar()\n",
    "\n",
    "data = get_data(25000, modes, probs)\n",
    "data = np.concatenate([d.reshape(1,-1) for d in data], axis=0)"
   ]
  },
  {
   "cell_type": "code",
   "execution_count": 65,
   "id": "c086d363",
   "metadata": {},
   "outputs": [
    {
     "data": {
      "text/plain": [
       "(25000, 2)"
      ]
     },
     "execution_count": 65,
     "metadata": {},
     "output_type": "execute_result"
    }
   ],
   "source": [
    "data.shape"
   ]
  },
  {
   "cell_type": "code",
   "execution_count": 67,
   "id": "3918c5cf",
   "metadata": {},
   "outputs": [
    {
     "data": {
      "image/png": "[encoded data removed]",
      "text/plain": [
       "<Figure size 432x432 with 1 Axes>"
      ]
     },
     "metadata": {
      "needs_background": "light"
     },
     "output_type": "display_data"
    }
   ],
   "source": [
    "plt.figure(figsize=(6,6))\n",
    "plt.scatter(data[:,0], data[:,1], c=[(0,0,0)], s=0.2)\n",
    "interval = [-2, 2]\n",
    "plt.xlim(interval)\n",
    "plt.ylim(interval)\n",
    "plt.show()"
   ]
  },
  {
   "cell_type": "code",
   "execution_count": 70,
   "id": "36adc757",
   "metadata": {},
   "outputs": [],
   "source": [
    "import torch\n",
    "from torchvision import datasets, transforms\n",
    "\n",
    "def make_stacks(data, data_size):\n",
    "    data = torch.concat(data, dim=0)\n",
    "    stacked_data = data[torch.randint(data.shape[0], (data_size * 3,))]\n",
    "    stacked_data = stacked_data.reshape(data_size, 3, data.shape[1], data.shape[2])\n",
    "    return [stacked_data[i, :, :, :] for i in range(data_size)]\n",
    "\n",
    "transform_data = transforms.Compose([transforms.ToTensor()])\n",
    "\n",
    "data = [x for x, _ in list(datasets.MNIST('data', download=True, train=True, transform=transform_data))]\n",
    "data = make_stacks(data, 3)"
   ]
  },
  {
   "cell_type": "code",
   "execution_count": 77,
   "id": "76a9de7d",
   "metadata": {},
   "outputs": [
    {
     "data": {
      "image/png": "[encoded data removed]",
      "text/plain": [
       "<Figure size 432x288 with 1 Axes>"
      ]
     },
     "metadata": {
      "needs_background": "light"
     },
     "output_type": "display_data"
    }
   ],
   "source": [
    "plt.imshow(np.array(data[2]).transpose(1,2,0))\n",
    "plt.show()"
   ]
  },
  {
   "cell_type": "code",
   "execution_count": 74,
   "id": "d0e3000b",
   "metadata": {},
   "outputs": [
    {
     "data": {
      "text/plain": [
       "torch.Size([3, 28, 28])"
      ]
     },
     "execution_count": 74,
     "metadata": {},
     "output_type": "execute_result"
    }
   ],
   "source": [
    "data[0].shape"
   ]
  },
  {
   "cell_type": "code",
   "execution_count": 19,
   "id": "31ba539d",
   "metadata": {},
   "outputs": [
    {
     "data": {
      "text/html": [
       "<div>\n",
       "<style scoped>\n",
       "    .dataframe tbody tr th:only-of-type {\n",
       "        vertical-align: middle;\n",
       "    }\n",
       "\n",
       "    .dataframe tbody tr th {\n",
       "        vertical-align: top;\n",
       "    }\n",
       "\n",
       "    .dataframe thead th {\n",
       "        text-align: right;\n",
       "    }\n",
       "</style>\n",
       "<table border=\"1\" class=\"dataframe\">\n",
       "  <thead>\n",
       "    <tr style=\"text-align: right;\">\n",
       "      <th></th>\n",
       "      <th>Seed</th>\n",
       "      <th>FID Score</th>\n",
       "      <th>0.0-1</th>\n",
       "      <th>0.0-3</th>\n",
       "      <th>0.0-5</th>\n",
       "      <th>0.0-10</th>\n",
       "      <th>0.1-1</th>\n",
       "      <th>0.1-3</th>\n",
       "      <th>0.1-5</th>\n",
       "      <th>0.1-10</th>\n",
       "      <th>...</th>\n",
       "      <th>0.7-5</th>\n",
       "      <th>0.7-10</th>\n",
       "      <th>0.8-1</th>\n",
       "      <th>0.8-3</th>\n",
       "      <th>0.8-5</th>\n",
       "      <th>0.8-10</th>\n",
       "      <th>0.9-1</th>\n",
       "      <th>0.9-3</th>\n",
       "      <th>0.9-5</th>\n",
       "      <th>0.9-10</th>\n",
       "    </tr>\n",
       "    <tr>\n",
       "      <th>Setting</th>\n",
       "      <th></th>\n",
       "      <th></th>\n",
       "      <th></th>\n",
       "      <th></th>\n",
       "      <th></th>\n",
       "      <th></th>\n",
       "      <th></th>\n",
       "      <th></th>\n",
       "      <th></th>\n",
       "      <th></th>\n",
       "      <th></th>\n",
       "      <th></th>\n",
       "      <th></th>\n",
       "      <th></th>\n",
       "      <th></th>\n",
       "      <th></th>\n",
       "      <th></th>\n",
       "      <th></th>\n",
       "      <th></th>\n",
       "      <th></th>\n",
       "      <th></th>\n",
       "    </tr>\n",
       "  </thead>\n",
       "  <tbody>\n",
       "    <tr>\n",
       "      <th>-non_saturating-n_epochs-200-epoch_step-10-g_lr-0.0001-g_alpha-1-d_alpha-1-beta1-0.5-g_width-64-d_width-64</th>\n",
       "      <td>5.5</td>\n",
       "      <td>168.795435</td>\n",
       "      <td>10.0</td>\n",
       "      <td>10.0</td>\n",
       "      <td>10.0</td>\n",
       "      <td>10.0</td>\n",
       "      <td>10.0</td>\n",
       "      <td>10.0</td>\n",
       "      <td>10.0</td>\n",
       "      <td>10.0</td>\n",
       "      <td>...</td>\n",
       "      <td>10.0</td>\n",
       "      <td>10.0</td>\n",
       "      <td>10.0</td>\n",
       "      <td>10.0</td>\n",
       "      <td>10.0</td>\n",
       "      <td>10.0</td>\n",
       "      <td>10.0</td>\n",
       "      <td>10.0</td>\n",
       "      <td>9.9</td>\n",
       "      <td>9.2</td>\n",
       "    </tr>\n",
       "    <tr>\n",
       "      <th>-non_saturating-n_epochs-200-epoch_step-10-g_lr-0.0002-g_alpha-1-d_alpha-1-beta1-0.5-g_width-64-d_width-64</th>\n",
       "      <td>5.5</td>\n",
       "      <td>161.364833</td>\n",
       "      <td>10.0</td>\n",
       "      <td>10.0</td>\n",
       "      <td>10.0</td>\n",
       "      <td>10.0</td>\n",
       "      <td>10.0</td>\n",
       "      <td>10.0</td>\n",
       "      <td>10.0</td>\n",
       "      <td>10.0</td>\n",
       "      <td>...</td>\n",
       "      <td>10.0</td>\n",
       "      <td>10.0</td>\n",
       "      <td>10.0</td>\n",
       "      <td>10.0</td>\n",
       "      <td>10.0</td>\n",
       "      <td>10.0</td>\n",
       "      <td>10.0</td>\n",
       "      <td>10.0</td>\n",
       "      <td>9.8</td>\n",
       "      <td>9.1</td>\n",
       "    </tr>\n",
       "    <tr>\n",
       "      <th>-non_saturating-n_epochs-200-epoch_step-10-g_lr-0.0005-g_alpha-1-d_alpha-1-beta1-0.5-g_width-64-d_width-64</th>\n",
       "      <td>5.5</td>\n",
       "      <td>158.568338</td>\n",
       "      <td>10.0</td>\n",
       "      <td>10.0</td>\n",
       "      <td>10.0</td>\n",
       "      <td>10.0</td>\n",
       "      <td>10.0</td>\n",
       "      <td>10.0</td>\n",
       "      <td>10.0</td>\n",
       "      <td>10.0</td>\n",
       "      <td>...</td>\n",
       "      <td>10.0</td>\n",
       "      <td>10.0</td>\n",
       "      <td>10.0</td>\n",
       "      <td>10.0</td>\n",
       "      <td>10.0</td>\n",
       "      <td>10.0</td>\n",
       "      <td>10.0</td>\n",
       "      <td>10.0</td>\n",
       "      <td>10.0</td>\n",
       "      <td>9.3</td>\n",
       "    </tr>\n",
       "    <tr>\n",
       "      <th>-non_saturating-n_epochs-200-epoch_step-10-g_lr-0.001-g_alpha-1-d_alpha-1-beta1-0.5-g_width-64-d_width-64</th>\n",
       "      <td>5.5</td>\n",
       "      <td>160.242026</td>\n",
       "      <td>10.0</td>\n",
       "      <td>10.0</td>\n",
       "      <td>10.0</td>\n",
       "      <td>10.0</td>\n",
       "      <td>10.0</td>\n",
       "      <td>10.0</td>\n",
       "      <td>10.0</td>\n",
       "      <td>10.0</td>\n",
       "      <td>...</td>\n",
       "      <td>10.0</td>\n",
       "      <td>10.0</td>\n",
       "      <td>10.0</td>\n",
       "      <td>10.0</td>\n",
       "      <td>10.0</td>\n",
       "      <td>10.0</td>\n",
       "      <td>10.0</td>\n",
       "      <td>10.0</td>\n",
       "      <td>9.9</td>\n",
       "      <td>9.3</td>\n",
       "    </tr>\n",
       "  </tbody>\n",
       "</table>\n",
       "<p>4 rows × 42 columns</p>\n",
       "</div>"
      ],
      "text/plain": [
       "                                                    Seed   FID Score  0.0-1  \\\n",
       "Setting                                                                       \n",
       "-non_saturating-n_epochs-200-epoch_step-10-g_lr...   5.5  168.795435   10.0   \n",
       "-non_saturating-n_epochs-200-epoch_step-10-g_lr...   5.5  161.364833   10.0   \n",
       "-non_saturating-n_epochs-200-epoch_step-10-g_lr...   5.5  158.568338   10.0   \n",
       "-non_saturating-n_epochs-200-epoch_step-10-g_lr...   5.5  160.242026   10.0   \n",
       "\n",
       "                                                    0.0-3  0.0-5  0.0-10  \\\n",
       "Setting                                                                    \n",
       "-non_saturating-n_epochs-200-epoch_step-10-g_lr...   10.0   10.0    10.0   \n",
       "-non_saturating-n_epochs-200-epoch_step-10-g_lr...   10.0   10.0    10.0   \n",
       "-non_saturating-n_epochs-200-epoch_step-10-g_lr...   10.0   10.0    10.0   \n",
       "-non_saturating-n_epochs-200-epoch_step-10-g_lr...   10.0   10.0    10.0   \n",
       "\n",
       "                                                    0.1-1  0.1-3  0.1-5  \\\n",
       "Setting                                                                   \n",
       "-non_saturating-n_epochs-200-epoch_step-10-g_lr...   10.0   10.0   10.0   \n",
       "-non_saturating-n_epochs-200-epoch_step-10-g_lr...   10.0   10.0   10.0   \n",
       "-non_saturating-n_epochs-200-epoch_step-10-g_lr...   10.0   10.0   10.0   \n",
       "-non_saturating-n_epochs-200-epoch_step-10-g_lr...   10.0   10.0   10.0   \n",
       "\n",
       "                                                    0.1-10  ...  0.7-5  \\\n",
       "Setting                                                     ...          \n",
       "-non_saturating-n_epochs-200-epoch_step-10-g_lr...    10.0  ...   10.0   \n",
       "-non_saturating-n_epochs-200-epoch_step-10-g_lr...    10.0  ...   10.0   \n",
       "-non_saturating-n_epochs-200-epoch_step-10-g_lr...    10.0  ...   10.0   \n",
       "-non_saturating-n_epochs-200-epoch_step-10-g_lr...    10.0  ...   10.0   \n",
       "\n",
       "                                                    0.7-10  0.8-1  0.8-3  \\\n",
       "Setting                                                                    \n",
       "-non_saturating-n_epochs-200-epoch_step-10-g_lr...    10.0   10.0   10.0   \n",
       "-non_saturating-n_epochs-200-epoch_step-10-g_lr...    10.0   10.0   10.0   \n",
       "-non_saturating-n_epochs-200-epoch_step-10-g_lr...    10.0   10.0   10.0   \n",
       "-non_saturating-n_epochs-200-epoch_step-10-g_lr...    10.0   10.0   10.0   \n",
       "\n",
       "                                                    0.8-5  0.8-10  0.9-1  \\\n",
       "Setting                                                                    \n",
       "-non_saturating-n_epochs-200-epoch_step-10-g_lr...   10.0    10.0   10.0   \n",
       "-non_saturating-n_epochs-200-epoch_step-10-g_lr...   10.0    10.0   10.0   \n",
       "-non_saturating-n_epochs-200-epoch_step-10-g_lr...   10.0    10.0   10.0   \n",
       "-non_saturating-n_epochs-200-epoch_step-10-g_lr...   10.0    10.0   10.0   \n",
       "\n",
       "                                                    0.9-3  0.9-5  0.9-10  \n",
       "Setting                                                                   \n",
       "-non_saturating-n_epochs-200-epoch_step-10-g_lr...   10.0    9.9     9.2  \n",
       "-non_saturating-n_epochs-200-epoch_step-10-g_lr...   10.0    9.8     9.1  \n",
       "-non_saturating-n_epochs-200-epoch_step-10-g_lr...   10.0   10.0     9.3  \n",
       "-non_saturating-n_epochs-200-epoch_step-10-g_lr...   10.0    9.9     9.3  \n",
       "\n",
       "[4 rows x 42 columns]"
      ]
     },
     "execution_count": 19,
     "metadata": {},
     "output_type": "execute_result"
    }
   ],
   "source": [
    "g_alpha = 1\n",
    "d_alpha = 1\n",
    "df = pd.read_csv('metrics/metrics_monica.csv')\n",
    "df = df[df['Setting'].apply(lambda x: len(x.split('g_alpha-')) > 1 and x.split('g_alpha-')[1].split('-')[0] == str(g_alpha))]\n",
    "df = df[df['Setting'].apply(lambda x: len(x.split('d_alpha-')) > 1 and x.split('d_alpha-')[1].split('-')[0] == str(d_alpha))]\n",
    "df.groupby('Setting').mean()"
   ]
  },
  {
   "cell_type": "code",
   "execution_count": 36,
   "id": "beb6399b",
   "metadata": {},
   "outputs": [
    {
     "data": {
      "image/png": "[encoded data removed]",
      "text/plain": [
       "<Figure size 432x288 with 1 Axes>"
      ]
     },
     "metadata": {
      "needs_background": "light"
     },
     "output_type": "display_data"
    }
   ],
   "source": [
    "g_alpha = 1\n",
    "d_alpha = 1.5\n",
    "df = pd.read_csv('metrics/metrics_monica.csv')\n",
    "#df = df[df['Setting'].apply(lambda x: 'model_width-8' in x)]\n",
    "df = df[df['Setting'].apply(lambda x: len(x.split('g_alpha-')) > 1 and x.split('g_alpha-')[1].split('-')[0] == str(g_alpha))]\n",
    "df = df[df['Setting'].apply(lambda x: len(x.split('d_alpha-')) > 1 and x.split('d_alpha-')[1].split('-')[0] == str(d_alpha))]\n",
    "\n",
    "lrs = ['1e-4', '2e-4', '5e-4', '1e-3']\n",
    "\n",
    "n = 20\n",
    "\n",
    "data = np.zeros((len(lrs),n))\n",
    "\n",
    "metric = 'FIDs'\n",
    "\n",
    "for fid_i in range(n):\n",
    "\n",
    "    df['FID_i'] = df[metric].apply(lambda x: eval(x)[fid_i])\n",
    "    data[:,fid_i] = np.array(df.groupby('Setting').mean()['FID_i'])\n",
    "\n",
    "lrs = ['1e-4', '2e-4', '5e-4', '1e-3']\n",
    "#lrs = ['1e-4', '2e-4', '5e-4', '6e-4', '7e-4', '8e-4', '9e-4', '1e-3']\n",
    "for i in range(len(lrs)):\n",
    "    plt.plot([10*j for j in range(1,n+1)], np.log(data[i,:]), label='lr=' + lrs[i], marker='.')\n",
    "\n",
    "plt.legend()\n",
    "plt.title(r'$\\alpha_{G} = ' + str(g_alpha) + r'$ $,\\alpha_{D} = ' + str(d_alpha) + '$ on CIFAR-10')\n",
    "plt.xlabel('Epoch')\n",
    "plt.ylabel('log FID')\n",
    "plt.grid( color=(0.9,0.9,0.9))\n",
    "plt.show()"
   ]
  },
  {
   "cell_type": "code",
   "execution_count": null,
   "id": "821c30a9",
   "metadata": {},
   "outputs": [],
   "source": []
  }
 ],
 "metadata": {
  "kernelspec": {
   "display_name": "Python 3 (ipykernel)",
   "language": "python",
   "name": "python3"
  },
  "language_info": {
   "codemirror_mode": {
    "name": "ipython",
    "version": 3
   },
   "file_extension": ".py",
   "mimetype": "text/x-python",
   "name": "python",
   "nbconvert_exporter": "python",
   "pygments_lexer": "ipython3",
   "version": "3.8.13"
  }
 },
 "nbformat": 4,
 "nbformat_minor": 5
}
