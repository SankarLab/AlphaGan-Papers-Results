{
 "cells": [
  {
   "cell_type": "code",
   "execution_count": 1,
   "id": "980654d9",
   "metadata": {},
   "outputs": [],
   "source": [
    "import pandas as pd\n",
    "import numpy as np\n",
    "import matplotlib.pyplot as plt"
   ]
  },
  {
   "cell_type": "code",
   "execution_count": 3,
   "id": "5b9ae458",
   "metadata": {},
   "outputs": [
    {
     "data": {
      "text/html": [
       "<div>\n",
       "<style scoped>\n",
       "    .dataframe tbody tr th:only-of-type {\n",
       "        vertical-align: middle;\n",
       "    }\n",
       "\n",
       "    .dataframe tbody tr th {\n",
       "        vertical-align: top;\n",
       "    }\n",
       "\n",
       "    .dataframe thead th {\n",
       "        text-align: right;\n",
       "    }\n",
       "</style>\n",
       "<table border=\"1\" class=\"dataframe\">\n",
       "  <thead>\n",
       "    <tr style=\"text-align: right;\">\n",
       "      <th></th>\n",
       "      <th>Setting</th>\n",
       "      <th>Seed</th>\n",
       "      <th>Modes</th>\n",
       "      <th>Major-Modes</th>\n",
       "      <th>Minor-Modes</th>\n",
       "      <th>HQS</th>\n",
       "      <th>Real-KL</th>\n",
       "      <th>Real-RKL</th>\n",
       "      <th>Real-JSD</th>\n",
       "      <th>Real-TVD</th>\n",
       "      <th>Uniform-KL</th>\n",
       "      <th>Uniform-RKL</th>\n",
       "      <th>Uniform-JSD</th>\n",
       "      <th>Uniform-TVD</th>\n",
       "    </tr>\n",
       "  </thead>\n",
       "  <tbody>\n",
       "    <tr>\n",
       "      <th>0</th>\n",
       "      <td>-dataset-polar-d_layers-4-g_layers-4-d_alpha-1...</td>\n",
       "      <td>3</td>\n",
       "      <td>0</td>\n",
       "      <td>0.0</td>\n",
       "      <td>0.0</td>\n",
       "      <td>0.00000</td>\n",
       "      <td>6.781676</td>\n",
       "      <td>2.076327</td>\n",
       "      <td>0.495679</td>\n",
       "      <td>0.874720</td>\n",
       "      <td>6.781676</td>\n",
       "      <td>2.076327</td>\n",
       "      <td>0.495679</td>\n",
       "      <td>0.874720</td>\n",
       "    </tr>\n",
       "    <tr>\n",
       "      <th>1</th>\n",
       "      <td>-dataset-polar-d_layers-4-g_layers-4-d_alpha-1...</td>\n",
       "      <td>2</td>\n",
       "      <td>8</td>\n",
       "      <td>8.0</td>\n",
       "      <td>0.0</td>\n",
       "      <td>0.98532</td>\n",
       "      <td>0.018775</td>\n",
       "      <td>0.018726</td>\n",
       "      <td>0.004673</td>\n",
       "      <td>0.083453</td>\n",
       "      <td>0.018775</td>\n",
       "      <td>0.018726</td>\n",
       "      <td>0.004673</td>\n",
       "      <td>0.083453</td>\n",
       "    </tr>\n",
       "    <tr>\n",
       "      <th>2</th>\n",
       "      <td>-dataset-polar-d_layers-4-g_layers-4-d_alpha-0...</td>\n",
       "      <td>2</td>\n",
       "      <td>8</td>\n",
       "      <td>8.0</td>\n",
       "      <td>0.0</td>\n",
       "      <td>0.82280</td>\n",
       "      <td>0.006027</td>\n",
       "      <td>0.005756</td>\n",
       "      <td>0.001470</td>\n",
       "      <td>0.039947</td>\n",
       "      <td>0.006027</td>\n",
       "      <td>0.005756</td>\n",
       "      <td>0.001470</td>\n",
       "      <td>0.039947</td>\n",
       "    </tr>\n",
       "    <tr>\n",
       "      <th>3</th>\n",
       "      <td>-dataset-polar-d_layers-4-g_layers-4-d_alpha-0...</td>\n",
       "      <td>2</td>\n",
       "      <td>8</td>\n",
       "      <td>8.0</td>\n",
       "      <td>0.0</td>\n",
       "      <td>0.98384</td>\n",
       "      <td>0.007764</td>\n",
       "      <td>0.007664</td>\n",
       "      <td>0.001926</td>\n",
       "      <td>0.054223</td>\n",
       "      <td>0.007764</td>\n",
       "      <td>0.007664</td>\n",
       "      <td>0.001926</td>\n",
       "      <td>0.054223</td>\n",
       "    </tr>\n",
       "    <tr>\n",
       "      <th>4</th>\n",
       "      <td>-dataset-polar-d_layers-4-g_layers-4-d_alpha-0...</td>\n",
       "      <td>2</td>\n",
       "      <td>0</td>\n",
       "      <td>0.0</td>\n",
       "      <td>0.0</td>\n",
       "      <td>0.00000</td>\n",
       "      <td>5.737985</td>\n",
       "      <td>1.555637</td>\n",
       "      <td>0.398123</td>\n",
       "      <td>0.749760</td>\n",
       "      <td>5.737985</td>\n",
       "      <td>1.555637</td>\n",
       "      <td>0.398123</td>\n",
       "      <td>0.749760</td>\n",
       "    </tr>\n",
       "    <tr>\n",
       "      <th>...</th>\n",
       "      <td>...</td>\n",
       "      <td>...</td>\n",
       "      <td>...</td>\n",
       "      <td>...</td>\n",
       "      <td>...</td>\n",
       "      <td>...</td>\n",
       "      <td>...</td>\n",
       "      <td>...</td>\n",
       "      <td>...</td>\n",
       "      <td>...</td>\n",
       "      <td>...</td>\n",
       "      <td>...</td>\n",
       "      <td>...</td>\n",
       "      <td>...</td>\n",
       "    </tr>\n",
       "    <tr>\n",
       "      <th>5393</th>\n",
       "      <td>-dataset-polar-d_layers-4-g_layers-4-d_alpha-0...</td>\n",
       "      <td>199</td>\n",
       "      <td>8</td>\n",
       "      <td>8.0</td>\n",
       "      <td>0.0</td>\n",
       "      <td>0.98368</td>\n",
       "      <td>0.004078</td>\n",
       "      <td>0.004169</td>\n",
       "      <td>0.001030</td>\n",
       "      <td>0.028631</td>\n",
       "      <td>0.004078</td>\n",
       "      <td>0.004169</td>\n",
       "      <td>0.001030</td>\n",
       "      <td>0.028631</td>\n",
       "    </tr>\n",
       "    <tr>\n",
       "      <th>5394</th>\n",
       "      <td>-dataset-polar-d_layers-4-g_layers-4-d_alpha-0...</td>\n",
       "      <td>200</td>\n",
       "      <td>6</td>\n",
       "      <td>6.0</td>\n",
       "      <td>0.0</td>\n",
       "      <td>0.97128</td>\n",
       "      <td>1.252293</td>\n",
       "      <td>0.285986</td>\n",
       "      <td>0.091763</td>\n",
       "      <td>0.246481</td>\n",
       "      <td>1.252293</td>\n",
       "      <td>0.285986</td>\n",
       "      <td>0.091763</td>\n",
       "      <td>0.246481</td>\n",
       "    </tr>\n",
       "    <tr>\n",
       "      <th>5395</th>\n",
       "      <td>-dataset-polar-d_layers-4-g_layers-4-d_alpha-0...</td>\n",
       "      <td>200</td>\n",
       "      <td>7</td>\n",
       "      <td>7.0</td>\n",
       "      <td>0.0</td>\n",
       "      <td>0.88540</td>\n",
       "      <td>1.178694</td>\n",
       "      <td>0.337311</td>\n",
       "      <td>0.100865</td>\n",
       "      <td>0.337732</td>\n",
       "      <td>1.178694</td>\n",
       "      <td>0.337311</td>\n",
       "      <td>0.100865</td>\n",
       "      <td>0.337732</td>\n",
       "    </tr>\n",
       "    <tr>\n",
       "      <th>5396</th>\n",
       "      <td>-dataset-polar-d_layers-4-g_layers-4-d_alpha-0...</td>\n",
       "      <td>200</td>\n",
       "      <td>4</td>\n",
       "      <td>4.0</td>\n",
       "      <td>0.0</td>\n",
       "      <td>0.98548</td>\n",
       "      <td>3.679491</td>\n",
       "      <td>0.696151</td>\n",
       "      <td>0.215819</td>\n",
       "      <td>0.499840</td>\n",
       "      <td>3.679491</td>\n",
       "      <td>0.696151</td>\n",
       "      <td>0.215819</td>\n",
       "      <td>0.499840</td>\n",
       "    </tr>\n",
       "    <tr>\n",
       "      <th>5397</th>\n",
       "      <td>-dataset-polar-d_layers-4-g_layers-4-d_alpha-1...</td>\n",
       "      <td>200</td>\n",
       "      <td>3</td>\n",
       "      <td>3.0</td>\n",
       "      <td>0.0</td>\n",
       "      <td>0.96968</td>\n",
       "      <td>4.661974</td>\n",
       "      <td>0.978867</td>\n",
       "      <td>0.289438</td>\n",
       "      <td>0.624800</td>\n",
       "      <td>4.661974</td>\n",
       "      <td>0.978867</td>\n",
       "      <td>0.289438</td>\n",
       "      <td>0.624800</td>\n",
       "    </tr>\n",
       "  </tbody>\n",
       "</table>\n",
       "<p>5398 rows × 14 columns</p>\n",
       "</div>"
      ],
      "text/plain": [
       "                                                Setting  Seed  Modes  \\\n",
       "0     -dataset-polar-d_layers-4-g_layers-4-d_alpha-1...     3      0   \n",
       "1     -dataset-polar-d_layers-4-g_layers-4-d_alpha-1...     2      8   \n",
       "2     -dataset-polar-d_layers-4-g_layers-4-d_alpha-0...     2      8   \n",
       "3     -dataset-polar-d_layers-4-g_layers-4-d_alpha-0...     2      8   \n",
       "4     -dataset-polar-d_layers-4-g_layers-4-d_alpha-0...     2      0   \n",
       "...                                                 ...   ...    ...   \n",
       "5393  -dataset-polar-d_layers-4-g_layers-4-d_alpha-0...   199      8   \n",
       "5394  -dataset-polar-d_layers-4-g_layers-4-d_alpha-0...   200      6   \n",
       "5395  -dataset-polar-d_layers-4-g_layers-4-d_alpha-0...   200      7   \n",
       "5396  -dataset-polar-d_layers-4-g_layers-4-d_alpha-0...   200      4   \n",
       "5397  -dataset-polar-d_layers-4-g_layers-4-d_alpha-1...   200      3   \n",
       "\n",
       "      Major-Modes  Minor-Modes      HQS   Real-KL  Real-RKL  Real-JSD  \\\n",
       "0             0.0          0.0  0.00000  6.781676  2.076327  0.495679   \n",
       "1             8.0          0.0  0.98532  0.018775  0.018726  0.004673   \n",
       "2             8.0          0.0  0.82280  0.006027  0.005756  0.001470   \n",
       "3             8.0          0.0  0.98384  0.007764  0.007664  0.001926   \n",
       "4             0.0          0.0  0.00000  5.737985  1.555637  0.398123   \n",
       "...           ...          ...      ...       ...       ...       ...   \n",
       "5393          8.0          0.0  0.98368  0.004078  0.004169  0.001030   \n",
       "5394          6.0          0.0  0.97128  1.252293  0.285986  0.091763   \n",
       "5395          7.0          0.0  0.88540  1.178694  0.337311  0.100865   \n",
       "5396          4.0          0.0  0.98548  3.679491  0.696151  0.215819   \n",
       "5397          3.0          0.0  0.96968  4.661974  0.978867  0.289438   \n",
       "\n",
       "      Real-TVD  Uniform-KL  Uniform-RKL  Uniform-JSD  Uniform-TVD  \n",
       "0     0.874720    6.781676     2.076327     0.495679     0.874720  \n",
       "1     0.083453    0.018775     0.018726     0.004673     0.083453  \n",
       "2     0.039947    0.006027     0.005756     0.001470     0.039947  \n",
       "3     0.054223    0.007764     0.007664     0.001926     0.054223  \n",
       "4     0.749760    5.737985     1.555637     0.398123     0.749760  \n",
       "...        ...         ...          ...          ...          ...  \n",
       "5393  0.028631    0.004078     0.004169     0.001030     0.028631  \n",
       "5394  0.246481    1.252293     0.285986     0.091763     0.246481  \n",
       "5395  0.337732    1.178694     0.337311     0.100865     0.337732  \n",
       "5396  0.499840    3.679491     0.696151     0.215819     0.499840  \n",
       "5397  0.624800    4.661974     0.978867     0.289438     0.624800  \n",
       "\n",
       "[5398 rows x 14 columns]"
      ]
     },
     "execution_count": 3,
     "metadata": {},
     "output_type": "execute_result"
    }
   ],
   "source": [
    "#df = pd.read_csv('experiment1/metrics.csv')\n",
    "df = pd.read_csv('metrics/ring_S_metrics.csv')\n",
    "#df['size'] = df['Setting'].apply(lambda x: str(x[42]) + str(x[53]))\n",
    "#df = df[df['size'] == '32']\n",
    "df['Setting'] = df['Setting'].apply(lambda x: x.replace('-major_weight-1', ''))\n",
    "df"
   ]
  },
  {
   "cell_type": "code",
   "execution_count": 13,
   "id": "7798a968",
   "metadata": {},
   "outputs": [
    {
     "data": {
      "text/plain": [
       "[['-dataset-polar-d_layers-4-g_layers-4-d_alpha-0.2-g_alpha-1-epoch_step-400',\n",
       "  '-dataset-polar-d_layers-4-g_layers-4-d_alpha-0.3-g_alpha-1-epoch_step-400',\n",
       "  '-dataset-polar-d_layers-4-g_layers-4-d_alpha-0.4-g_alpha-1-epoch_step-400',\n",
       "  '-dataset-polar-d_layers-4-g_layers-4-d_alpha-0.5-g_alpha-1-epoch_step-400',\n",
       "  '-dataset-polar-d_layers-4-g_layers-4-d_alpha-0.5-g_alpha-1.1-epoch_step-400',\n",
       "  '-dataset-polar-d_layers-4-g_layers-4-d_alpha-0.5-g_alpha-1.2-epoch_step-400',\n",
       "  '-dataset-polar-d_layers-4-g_layers-4-d_alpha-0.6-g_alpha-1-epoch_step-400',\n",
       "  '-dataset-polar-d_layers-4-g_layers-4-d_alpha-0.6-g_alpha-1.1-epoch_step-400',\n",
       "  '-dataset-polar-d_layers-4-g_layers-4-d_alpha-0.6-g_alpha-1.2-epoch_step-400',\n",
       "  '-dataset-polar-d_layers-4-g_layers-4-d_alpha-0.7-g_alpha-1-epoch_step-400',\n",
       "  '-dataset-polar-d_layers-4-g_layers-4-d_alpha-0.7-g_alpha-1.1-epoch_step-400',\n",
       "  '-dataset-polar-d_layers-4-g_layers-4-d_alpha-0.7-g_alpha-1.2-epoch_step-400',\n",
       "  '-dataset-polar-d_layers-4-g_layers-4-d_alpha-0.8-g_alpha-1-epoch_step-400',\n",
       "  '-dataset-polar-d_layers-4-g_layers-4-d_alpha-0.8-g_alpha-1.1-epoch_step-400',\n",
       "  '-dataset-polar-d_layers-4-g_layers-4-d_alpha-0.8-g_alpha-1.2-epoch_step-400',\n",
       "  '-dataset-polar-d_layers-4-g_layers-4-d_alpha-0.9-g_alpha-1-epoch_step-400',\n",
       "  '-dataset-polar-d_layers-4-g_layers-4-d_alpha-0.9-g_alpha-1.1-epoch_step-400',\n",
       "  '-dataset-polar-d_layers-4-g_layers-4-d_alpha-0.9-g_alpha-1.2-epoch_step-400',\n",
       "  '-dataset-polar-d_layers-4-g_layers-4-d_alpha-1-g_alpha-1-epoch_step-400',\n",
       "  '-dataset-polar-d_layers-4-g_layers-4-d_alpha-1-g_alpha-1.1-epoch_step-400',\n",
       "  '-dataset-polar-d_layers-4-g_layers-4-d_alpha-1-g_alpha-1.2-epoch_step-400']]"
      ]
     },
     "execution_count": 13,
     "metadata": {},
     "output_type": "execute_result"
    }
   ],
   "source": [
    "types = ['Modes', 'Minor-Modes', 'HQS', 'Uniform-RKL', 'Reverse KL', 'JSD', 'TVD']\n",
    "index = 0\n",
    "rows = 1\n",
    "means = df.groupby('Setting')[types[index]].mean().values.reshape(-1, rows).transpose().tolist()\n",
    "stds = df.groupby('Setting')[types[index]].std().values.reshape(-1, rows).transpose().tolist()\n",
    "\n",
    "indices = df.groupby('Setting')[types[index]].mean().index.values.reshape(-1, rows).transpose().tolist()\n",
    "indices"
   ]
  },
  {
   "cell_type": "code",
   "execution_count": 15,
   "id": "73bfcf15",
   "metadata": {},
   "outputs": [
    {
     "data": {
      "text/plain": [
       "[0.035,\n",
       " 0.02,\n",
       " 0.055,\n",
       " 0.045,\n",
       " 0.07333333333333333,\n",
       " 0.08666666666666667,\n",
       " 0.045,\n",
       " 0.08666666666666667,\n",
       " 0.05333333333333334,\n",
       " 0.06532663316582915,\n",
       " 0.12666666666666668,\n",
       " 0.08666666666666667,\n",
       " 0.08040201005025126,\n",
       " 0.12,\n",
       " 0.12,\n",
       " 0.16,\n",
       " 0.13333333333333333,\n",
       " 0.17333333333333334,\n",
       " 0.295,\n",
       " 0.26,\n",
       " 0.31333333333333335]"
      ]
     },
     "execution_count": 15,
     "metadata": {},
     "output_type": "execute_result"
    }
   ],
   "source": [
    "count8s = df[df['Modes'] == 0].groupby('Setting')[types[index]].size().transpose()\n",
    "sizes = df.groupby('Setting')[types[index]].size().transpose()\n",
    "\n",
    "(count8s / sizes).tolist()"
   ]
  },
  {
   "cell_type": "code",
   "execution_count": 23,
   "id": "e603c2bf",
   "metadata": {},
   "outputs": [
    {
     "data": {
      "image/png": "[encoded data removed]",
      "text/plain": [
       "<Figure size 432x288 with 1 Axes>"
      ]
     },
     "metadata": {
      "needs_background": "light"
     },
     "output_type": "display_data"
    }
   ],
   "source": [
    "idx = [0,2,4,6,8,10]\n",
    "#count0s = df[df['Modes'] == 0].groupby('Setting')[types[index]].size().transpose()[idx]\n",
    "count8s = df[df['Modes'] == 8].groupby('Setting')[types[index]].size().transpose()[idx]\n",
    "sizes = df.groupby('Setting')[types[index]].size().transpose()[idx]\n",
    "\n",
    "#p0 = np.array((count0s / sizes).tolist())\n",
    "\n",
    "#p0[np.isnan(p0)] = 0\n",
    "\n",
    "p8 = np.array((count8s / sizes).tolist())\n",
    "#pX = 1 - p0 - p8\n",
    "\n",
    "alphas = [0.5,0.6,0.7,0.8,0.9,1]\n",
    "\n",
    "#plt.plot(alphas, p0, marker='o', label='Modes = 0')\n",
    "\n",
    "#for x,y in zip(alphas, p0):\n",
    "    #plt.text(x, y+0.02, str(round(y * 1000) / 1000), ha='center')\n",
    "\n",
    "plt.plot(alphas, p8, marker='o', label='Modes = 8')\n",
    "\n",
    "for x,y in zip(alphas, p8):\n",
    "    plt.text(x, y+0.02, str(round(y * 1000) / 1000), ha='center')\n",
    "    \n",
    "#plt.plot(alphas, pX, marker='o', label=r'Modes $\\in$ (0,8)')\n",
    "\n",
    "#for x,y in zip(alphas, pX):\n",
    "    #plt.text(x, y+0.02, str(round(y * 1000) / 1000), ha='center')\n",
    "    \n",
    "plt.ylabel('Frequency')\n",
    "plt.xlabel('Alpha')\n",
    "plt.title('Gen. Alpha = 1 - 100 seeds')\n",
    "plt.legend(loc=(0.65,0.5))\n",
    "plt.show()"
   ]
  },
  {
   "cell_type": "code",
   "execution_count": 18,
   "id": "66819534",
   "metadata": {},
   "outputs": [
    {
     "name": "stdout",
     "output_type": "stream",
     "text": [
      "6.79±1.28 6.87±1.44 6.84±1.44 6.83±1.45 6.61±1.44 6.56±1.55 6.57±1.50 6.42±1.68 6.41±1.54 6.07±1.82 6.22±1.79 6.05±1.73 5.96±1.91 5.66±1.98 5.83±1.94 5.88±1.92 6.01±1.94 5.79±1.90 5.72±2.00 5.57±2.17 5.89±1.88 5.24±2.00 5.67±2.01 5.61±2.02 \n"
     ]
    }
   ],
   "source": [
    "for m_row, s_row in zip(means, stds):\n",
    "    for m, s in zip(m_row, s_row):\n",
    "        s = 0 if pd.isnull(s) else s\n",
    "        print(\"{:.2f}±{:.2f}\".format(m, s), end=' ')\n",
    "    print()"
   ]
  },
  {
   "cell_type": "code",
   "execution_count": 19,
   "id": "e6bce8ae",
   "metadata": {},
   "outputs": [],
   "source": [
    "fname1 = 'experiment1/data/-major_weight-1-dataset-polar-d_layers-4-g_layers-4-d_alpha-1-g_alpha-1-epoch_step-1-save_bursts-save_grads-seed-1_time-1666171574.366324'\n",
    "fname2 = 'experiment1/data/-major_weight-1-dataset-polar-d_layers-4-g_layers-4-d_alpha-1-g_alpha-1-epoch_step-1-save_bursts-save_grads-seed-3_time-1666171567.8593686'\n",
    "\n",
    "with open(fname1 + '/metrics.csv', 'r') as f:\n",
    "    metrics = eval(f.read())"
   ]
  },
  {
   "cell_type": "code",
   "execution_count": 20,
   "id": "25da3968",
   "metadata": {},
   "outputs": [
    {
     "data": {
      "image/png": "[encoded data removed]",
      "text/plain": [
       "<Figure size 576x288 with 1 Axes>"
      ]
     },
     "metadata": {
      "needs_background": "light"
     },
     "output_type": "display_data"
    }
   ],
   "source": [
    "plt.figure(figsize=(8,4))\n",
    "plt.plot(metrics['epochs'], metrics['modes'], color='blue')\n",
    "plt.xlabel('Epoch')\n",
    "plt.ylabel('Modes')\n",
    "plt.show()"
   ]
  },
  {
   "cell_type": "code",
   "execution_count": 21,
   "id": "fadcf7f4",
   "metadata": {},
   "outputs": [
    {
     "data": {
      "image/png": "[encoded data removed]",
      "text/plain": [
       "<Figure size 576x288 with 1 Axes>"
      ]
     },
     "metadata": {
      "needs_background": "light"
     },
     "output_type": "display_data"
    }
   ],
   "source": [
    "plt.figure(figsize=(8,4))\n",
    "plt.plot(metrics['epochs'], metrics['hqs'], color='red')\n",
    "plt.xlabel('Epoch')\n",
    "plt.ylabel('HQS')\n",
    "plt.show()"
   ]
  },
  {
   "cell_type": "code",
   "execution_count": 18,
   "id": "449970ba",
   "metadata": {},
   "outputs": [
    {
     "data": {
      "text/plain": [
       "array([ 85,  86,  87,  88,  89,  90,  91,  92,  93,  94,  95,  96,  97,\n",
       "        98,  99, 100, 101, 102, 103, 104, 105, 106, 107, 108, 109, 110,\n",
       "       111, 112, 113, 114, 115, 116, 117, 118, 119, 120])"
      ]
     },
     "execution_count": 18,
     "metadata": {},
     "output_type": "execute_result"
    }
   ],
   "source": [
    "np.array(metrics['epochs'])[np.array(metrics['modes']) == 8]"
   ]
  },
  {
   "cell_type": "code",
   "execution_count": null,
   "id": "e4d33c6c",
   "metadata": {},
   "outputs": [],
   "source": [
    "df = pd.read_csv('experiments/metrics.csv')\n",
    "df.groupby('Setting')['0.0-1'].mean()"
   ]
  },
  {
   "cell_type": "code",
   "execution_count": 14,
   "id": "71abe8bc",
   "metadata": {},
   "outputs": [
    {
     "data": {
      "text/plain": [
       "Setting\n",
       "-non_saturating-n_epochs-50-g_lr-0.001-g_alpha-1      10\n",
       "-non_saturating-n_epochs-50-g_lr-0.001-g_alpha-1.2     1\n",
       "-non_saturating-n_epochs-50-g_lr-0.001-ls_gan         10\n",
       "-non_saturating-n_epochs-50-g_lr-0.002-g_alpha-1      38\n",
       "-non_saturating-n_epochs-50-g_lr-0.002-g_alpha-1.2     1\n",
       "-non_saturating-n_epochs-50-g_lr-0.002-ls_gan         35\n",
       "-non_saturating-n_epochs-50-g_lr-0.005-g_alpha-1      35\n",
       "-non_saturating-n_epochs-50-g_lr-0.005-g_alpha-1.2     1\n",
       "-non_saturating-n_epochs-50-g_lr-0.005-ls_gan         44\n",
       "-non_saturating-n_epochs-50-g_lr-0.01-g_alpha-1       24\n",
       "-non_saturating-n_epochs-50-g_lr-0.01-g_alpha-1.2      4\n",
       "-non_saturating-n_epochs-50-g_lr-0.01-g_alpha-2        1\n",
       "-non_saturating-n_epochs-50-g_lr-0.01-ls_gan          69\n",
       "Name: 0.5-1, dtype: int64"
      ]
     },
     "execution_count": 14,
     "metadata": {},
     "output_type": "execute_result"
    }
   ],
   "source": [
    "df = pd.read_csv('metrics/mnist_metrics_lr.csv')\n",
    "#data = np.array(df[df['0.5-1'] == 0].groupby('Setting')['0.5-1'].count()).reshape(-1,5)\n",
    "#data\n",
    "df[df['0.5-1'] == 0].groupby('Setting')['0.5-1'].count()"
   ]
  },
  {
   "cell_type": "code",
   "execution_count": 72,
   "id": "62d6bc05",
   "metadata": {},
   "outputs": [
    {
     "data": {
      "image/png": "[encoded data removed]",
      "text/plain": [
       "<Figure size 432x288 with 1 Axes>"
      ]
     },
     "metadata": {
      "needs_background": "light"
     },
     "output_type": "display_data"
    }
   ],
   "source": [
    "lrs = ['1e-4', '2e-4', '5e-4', '1e-3', '2e-3', '5e-3', '1e-2']\n",
    "plt.plot(lrs, data[:,0], label=r'$\\alpha = 1$')\n",
    "plt.plot(lrs, data[:,1], label=r'$\\alpha = 1.2$')\n",
    "plt.plot(lrs, data[:,2], label=r'$\\alpha = 1.5$')\n",
    "plt.plot(lrs, data[:,3], label=r'$\\alpha = 2$')\n",
    "plt.plot(lrs, data[:,4], label=r'LS')\n",
    "for i in range(5):\n",
    "    plt.scatter(lrs, data[:,i])\n",
    "plt.legend()\n",
    "plt.xlabel('Learning rate (D & G)')\n",
    "plt.ylabel('Average mode coverage')\n",
    "plt.show()"
   ]
  },
  {
   "cell_type": "code",
   "execution_count": 15,
   "id": "dd36cd63",
   "metadata": {},
   "outputs": [
    {
     "data": {
      "text/plain": [
       "array([[654.09677419, 696.4516129 , 691.51612903, 718.        ],\n",
       "       [504.64516129, 550.58064516, 579.32258065, 677.74193548],\n",
       "       [474.12      , 452.375     , 521.28571429, 612.61538462],\n",
       "       [759.375     , 749.46875   , 732.875     , 754.59375   ]])"
      ]
     },
     "execution_count": 15,
     "metadata": {},
     "output_type": "execute_result"
    }
   ],
   "source": [
    "df = pd.read_csv('metrics/mnist_metrics_epochs.csv')\n",
    "data = np.array(df.groupby('Setting')['0.0-1'].mean()).reshape(-1,4)\n",
    "data"
   ]
  },
  {
   "cell_type": "code",
   "execution_count": 16,
   "id": "db89505c",
   "metadata": {},
   "outputs": [
    {
     "data": {
      "text/plain": [
       "Setting\n",
       "-non_saturating-n_epochs-100-g_lr-0.0005-g_alpha-1      2\n",
       "-non_saturating-n_epochs-150-g_lr-0.0005-g_alpha-1      3\n",
       "-non_saturating-n_epochs-150-g_lr-0.0005-g_alpha-1.2    1\n",
       "-non_saturating-n_epochs-200-g_lr-0.0005-g_alpha-1      2\n",
       "Name: 0.5-1, dtype: int64"
      ]
     },
     "execution_count": 16,
     "metadata": {},
     "output_type": "execute_result"
    }
   ],
   "source": [
    "df[df['0.5-1'] == 0].groupby('Setting')['0.5-1'].count()"
   ]
  },
  {
   "cell_type": "code",
   "execution_count": null,
   "id": "eeedc9c7",
   "metadata": {},
   "outputs": [],
   "source": []
  }
 ],
 "metadata": {
  "kernelspec": {
   "display_name": "Python 3 (ipykernel)",
   "language": "python",
   "name": "python3"
  },
  "language_info": {
   "codemirror_mode": {
    "name": "ipython",
    "version": 3
   },
   "file_extension": ".py",
   "mimetype": "text/x-python",
   "name": "python",
   "nbconvert_exporter": "python",
   "pygments_lexer": "ipython3",
   "version": "3.8.13"
  }
 },
 "nbformat": 4,
 "nbformat_minor": 5
}
